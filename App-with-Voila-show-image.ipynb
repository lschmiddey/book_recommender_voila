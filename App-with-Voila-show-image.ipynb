{
 "cells": [
  {
   "cell_type": "markdown",
   "metadata": {},
   "source": [
    "# So bekommt man den Text aus einem Bild"
   ]
  },
  {
   "cell_type": "markdown",
   "metadata": {},
   "source": [
    "## Was steht auf der Seite?"
   ]
  },
  {
   "cell_type": "code",
   "execution_count": 1,
   "metadata": {},
   "outputs": [],
   "source": [
    "from fastai.vision.widgets import *\n",
    "from PIL import Image, ImageFilter \n",
    "import pytesseract\n",
    "import re\n",
    "from transformers import BertTokenizer, BertForSequenceClassification\n",
    "#from pathlib import Path\n",
    "#from torch.utils.data import TensorDataset, DataLoader"
   ]
  },
  {
   "cell_type": "code",
   "execution_count": 2,
   "metadata": {},
   "outputs": [],
   "source": [
    "def proc_img(input_img):\n",
    "    \n",
    "    img = input_img.rotate(angle=270, resample=0, expand=10, center=None, translate=None, fillcolor=None)\n",
    "    img = img.filter(ImageFilter.MedianFilter)\n",
    "    \n",
    "    return img"
   ]
  },
  {
   "cell_type": "code",
   "execution_count": 3,
   "metadata": {},
   "outputs": [],
   "source": [
    "def get_text(img):\n",
    "    return pytesseract.image_to_string(img, lang=\"deu\")"
   ]
  },
  {
   "cell_type": "code",
   "execution_count": 4,
   "metadata": {},
   "outputs": [],
   "source": [
    "def use_pattern(text):\n",
    "    return pattern.sub(lambda m: rep[re.escape(m.group(0))], text)"
   ]
  },
  {
   "cell_type": "code",
   "execution_count": 5,
   "metadata": {},
   "outputs": [],
   "source": [
    "rep = {\"\\n\": \"\", \"`\": \"\", '%':\"\", '°': '', '&':'', '‘':'', '€':'e', '®':'', '\\\\': '', '5':'s', '1':'i', '_':'', '-':''} # define desired replacements here\n",
    "\n",
    "# use these three lines to do the replacement\n",
    "rep = dict((re.escape(k), v) for k, v in rep.items()) \n",
    "#Python 3 renamed dict.iteritems to dict.items so use rep.items() for latest versions\n",
    "pattern = re.compile(\"|\".join(rep.keys()))"
   ]
  },
  {
   "cell_type": "code",
   "execution_count": 6,
   "metadata": {},
   "outputs": [],
   "source": [
    "btn_upload = widgets.FileUpload()\n",
    "out_pl = widgets.Output()\n",
    "text_widget = widgets.Label()\n",
    "btn_run = widgets.Button(description='Text:')"
   ]
  },
  {
   "cell_type": "code",
   "execution_count": 7,
   "metadata": {},
   "outputs": [],
   "source": [
    "def on_click_text(change):\n",
    "    img = PILImage.create(btn_upload.data[-1])\n",
    "    out_pl.clear_output()\n",
    "    with out_pl: display(proc_img(img).to_thumb(256,256))\n",
    "    text = use_pattern(get_text(proc_img(img)))\n",
    "    text_widget = display(text)"
   ]
  },
  {
   "cell_type": "code",
   "execution_count": 8,
   "metadata": {},
   "outputs": [],
   "source": [
    "btn_run.on_click(on_click_text)"
   ]
  },
  {
   "cell_type": "code",
   "execution_count": 10,
   "metadata": {},
   "outputs": [
    {
     "data": {
      "application/vnd.jupyter.widget-view+json": {
       "model_id": "389ec1d22de147f59525e81ef86a7522",
       "version_major": 2,
       "version_minor": 0
      },
      "text/plain": [
       "VBox(children=(Label(value='Upload Bild von Buchseite'), FileUpload(value={}, description='Upload'), Button(de…"
      ]
     },
     "metadata": {},
     "output_type": "display_data"
    },
    {
     "data": {
      "text/plain": [
       "'sagen, dass die Seeleute selbst durchaus Mitgefühl zeigten, wiezum Beispiel Johnson; aber die Herren (die Jäger und der Ka—pitän) waren herzlos und gleichgültig. Selbst der Protest vonStandish entstand ja nur aus der Tatsache, dass er seinen Ruderer nicht verlieren wollte. Wäre es der Ruderer eines anderenJägers gewesen, dann hätte auch er sich, genau wie die anderen,bloß amüsiert.Zurück zu Harrison. Der Maat musste den armen Kerl volle zehn Minuten lang beschimpfen und niedermachen, ehe sichder wieder rührte. Kurz darauf erreichte er das Ende des Gaffelbaums, wo er jetzt, rittlings auf dem Holz sitzend, besserenHalt hatte. Er befreite die Schot, und jetzt hatte er die Möglich—keit, leicht abwärts an den Tauen zurück zum Mast zu klettern.Aber inzwischen hatte er völlig den Mut Verloren. Seine jetzigePosition mochte unsicher sein, aber er war nicht bereit, sie auf—zugeben und zurück auf die Taue zu gehen, die noch viel unsicherer waren.Er betrachtete den luftigen Weg, den er beschreiten sollte, undsah dann aufs Deck hinunter. Seine Augen waren weit aufgeris—sen, und er zitterte heftig. Ich hatte noch nie ein Gesicht ge—sehen, das so voller Angst war. Vergeblich rief ihm Johansenzu, er solle herunterkommen. Er konnte jeden Augenblick vomGaffelbaum heruntergeschleudert werden, aber er war hilﬂos vorAngst. Wolf Larsen, der im Gespräch mit Smoke auf und ab ging,ignorierte ihn jetzt völlig, nur einmal rief er dem Mann am Ru—der scharf zu: »Du bist nicht auf Kurs, Mann! Wenn du keinenArger willst, sieh dich vor!«...“.  '"
      ]
     },
     "metadata": {},
     "output_type": "display_data"
    }
   ],
   "source": [
    "VBox([widgets.Label('Upload Bild von Buchseite'),\n",
    "     btn_upload, btn_run, out_pl, text_widget])"
   ]
  },
  {
   "cell_type": "code",
   "execution_count": null,
   "metadata": {},
   "outputs": [],
   "source": []
  }
 ],
 "metadata": {
  "kernelspec": {
   "display_name": "Python 3",
   "language": "python",
   "name": "python3"
  },
  "language_info": {
   "codemirror_mode": {
    "name": "ipython",
    "version": 3
   },
   "file_extension": ".py",
   "mimetype": "text/x-python",
   "name": "python",
   "nbconvert_exporter": "python",
   "pygments_lexer": "ipython3",
   "version": "3.8.5"
  }
 },
 "nbformat": 4,
 "nbformat_minor": 4
}
